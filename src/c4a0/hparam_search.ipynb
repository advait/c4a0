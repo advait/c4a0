{
 "cells": [
  {
   "cell_type": "code",
   "execution_count": 1,
   "metadata": {},
   "outputs": [],
   "source": [
    "%load_ext autoreload\n",
    "%autoreload 2"
   ]
  },
  {
   "cell_type": "code",
   "execution_count": 2,
   "metadata": {},
   "outputs": [],
   "source": [
    "import wandb\n",
    "import pytorch_lightning as pl\n",
    "from pytorch_lightning.callbacks import EarlyStopping\n",
    "from pytorch_lightning.loggers import WandbLogger\n",
    "\n",
    "from training import SampleDataModule, TrainingGen\n",
    "from nn import ConnectFourNet"
   ]
  },
  {
   "cell_type": "code",
   "execution_count": 3,
   "metadata": {},
   "outputs": [
    {
     "data": {
      "text/plain": [
       "428653"
      ]
     },
     "execution_count": 3,
     "metadata": {},
     "output_type": "execute_result"
    }
   ],
   "source": [
    "base_dir = \"../../training\"\n",
    "n_gens = 5\n",
    "gens = TrainingGen.load_all(base_dir)[:n_gens]\n",
    "samples = [\n",
    "    sample\n",
    "    for gen in gens\n",
    "    for result in gen.get_games(base_dir).results\n",
    "    for sample in result.samples\n",
    "]\n",
    "\n",
    "len(samples)"
   ]
  },
  {
   "cell_type": "code",
   "execution_count": 4,
   "metadata": {},
   "outputs": [],
   "source": [
    "sweep_config = {\n",
    "    'method': 'bayes',  # can be 'random', 'grid', 'bayes'\n",
    "    'metric': {\n",
    "        'name': 'val_loss',\n",
    "        'goal': 'minimize'\n",
    "    },\n",
    "    'parameters': {\n",
    "        'learning_rate': {\n",
    "            'min': 0.0001,\n",
    "            'max': 0.1\n",
    "        },\n",
    "        'batch_size': {\n",
    "            'values': [2048]\n",
    "        },\n",
    "        'n_conv_layers': {\n",
    "            'values': [1, 2, 4, 8, 16]\n",
    "        },\n",
    "        'conv_filter_size': {\n",
    "            'values': [4, 8, 16, 32, 64, 128, 256]\n",
    "        },\n",
    "        'n_policy_layers': {\n",
    "            'values': [1, 2, 4, 8, 16]\n",
    "        },\n",
    "        'n_value_layers': {\n",
    "            'values': [1, 2, 4, 8, 16]\n",
    "        },\n",
    "    }\n",
    "}"
   ]
  },
  {
   "cell_type": "code",
   "execution_count": 5,
   "metadata": {},
   "outputs": [],
   "source": [
    "def train():\n",
    "    wandb.init()\n",
    "    config = wandb.config\n",
    "    wandb_logger = WandbLogger(project=\"c4a0\")\n",
    "\n",
    "    # Create your model with these hyperparameters\n",
    "    model = ConnectFourNet(\n",
    "        n_conv_layers=config.n_conv_layers,\n",
    "        conv_filter_size=config.conv_filter_size,\n",
    "        n_policy_layers=config.n_policy_layers,\n",
    "        n_value_layers=config.n_value_layers,\n",
    "        learning_rate=config.learning_rate,\n",
    "    )\n",
    "\n",
    "    split_idx = int(0.8 * len(samples))\n",
    "    train, test = samples[:split_idx], samples[split_idx:]\n",
    "\n",
    "    data_module = SampleDataModule(train, test, config.batch_size)\n",
    "\n",
    "    trainer = pl.Trainer(\n",
    "        max_epochs=30,\n",
    "        accelerator=\"auto\",\n",
    "        devices=\"auto\",\n",
    "        callbacks=[\n",
    "            EarlyStopping(monitor=\"val_loss\", patience=4, mode=\"min\"),\n",
    "        ],\n",
    "        logger=wandb_logger,\n",
    "    )\n",
    "    trainer.fit(model, data_module)"
   ]
  },
  {
   "cell_type": "code",
   "execution_count": 6,
   "metadata": {},
   "outputs": [
    {
     "name": "stderr",
     "output_type": "stream",
     "text": [
      "Failed to detect the name of this notebook, you can set it manually with the WANDB_NOTEBOOK_NAME environment variable to enable code saving.\n"
     ]
    },
    {
     "name": "stdout",
     "output_type": "stream",
     "text": [
      "Create sweep with ID: n2g2mo4u\n",
      "Sweep URL: https://wandb.ai/advait3000-advait/c4a0/sweeps/n2g2mo4u\n"
     ]
    },
    {
     "name": "stderr",
     "output_type": "stream",
     "text": [
      "\u001b[34m\u001b[1mwandb\u001b[0m: Agent Starting Run: h40qz4hc with config:\n",
      "\u001b[34m\u001b[1mwandb\u001b[0m: \tbatch_size: 2048\n",
      "\u001b[34m\u001b[1mwandb\u001b[0m: \tconv_filter_size: 64\n",
      "\u001b[34m\u001b[1mwandb\u001b[0m: \tlearning_rate: 0.058514548646903766\n",
      "\u001b[34m\u001b[1mwandb\u001b[0m: \tn_conv_layers: 2\n",
      "\u001b[34m\u001b[1mwandb\u001b[0m: \tn_policy_layers: 1\n",
      "\u001b[34m\u001b[1mwandb\u001b[0m: \tn_value_layers: 4\n",
      "Failed to detect the name of this notebook, you can set it manually with the WANDB_NOTEBOOK_NAME environment variable to enable code saving.\n",
      "\u001b[34m\u001b[1mwandb\u001b[0m: Currently logged in as: \u001b[33madvait3000\u001b[0m (\u001b[33madvait3000-advait\u001b[0m). Use \u001b[1m`wandb login --relogin`\u001b[0m to force relogin\n"
     ]
    },
    {
     "data": {
      "text/html": [
       "Tracking run with wandb version 0.17.5"
      ],
      "text/plain": [
       "<IPython.core.display.HTML object>"
      ]
     },
     "metadata": {},
     "output_type": "display_data"
    },
    {
     "data": {
      "text/html": [
       "Run data is saved locally in <code>/Users/advait/c4a0/src/c4a0/wandb/run-20240721_182649-h40qz4hc</code>"
      ],
      "text/plain": [
       "<IPython.core.display.HTML object>"
      ]
     },
     "metadata": {},
     "output_type": "display_data"
    },
    {
     "data": {
      "text/html": [
       "Syncing run <strong><a href='https://wandb.ai/advait3000-advait/c4a0/runs/h40qz4hc' target=\"_blank\">sweet-sweep-1</a></strong> to <a href='https://wandb.ai/advait3000-advait/c4a0' target=\"_blank\">Weights & Biases</a> (<a href='https://wandb.me/run' target=\"_blank\">docs</a>)<br/>Sweep page: <a href='https://wandb.ai/advait3000-advait/c4a0/sweeps/n2g2mo4u' target=\"_blank\">https://wandb.ai/advait3000-advait/c4a0/sweeps/n2g2mo4u</a>"
      ],
      "text/plain": [
       "<IPython.core.display.HTML object>"
      ]
     },
     "metadata": {},
     "output_type": "display_data"
    },
    {
     "data": {
      "text/html": [
       " View project at <a href='https://wandb.ai/advait3000-advait/c4a0' target=\"_blank\">https://wandb.ai/advait3000-advait/c4a0</a>"
      ],
      "text/plain": [
       "<IPython.core.display.HTML object>"
      ]
     },
     "metadata": {},
     "output_type": "display_data"
    },
    {
     "data": {
      "text/html": [
       " View sweep at <a href='https://wandb.ai/advait3000-advait/c4a0/sweeps/n2g2mo4u' target=\"_blank\">https://wandb.ai/advait3000-advait/c4a0/sweeps/n2g2mo4u</a>"
      ],
      "text/plain": [
       "<IPython.core.display.HTML object>"
      ]
     },
     "metadata": {},
     "output_type": "display_data"
    },
    {
     "data": {
      "text/html": [
       " View run at <a href='https://wandb.ai/advait3000-advait/c4a0/runs/h40qz4hc' target=\"_blank\">https://wandb.ai/advait3000-advait/c4a0/runs/h40qz4hc</a>"
      ],
      "text/plain": [
       "<IPython.core.display.HTML object>"
      ]
     },
     "metadata": {},
     "output_type": "display_data"
    },
    {
     "name": "stderr",
     "output_type": "stream",
     "text": [
      "GPU available: True (mps), used: True\n",
      "TPU available: False, using: 0 TPU cores\n",
      "IPU available: False, using: 0 IPUs\n",
      "HPU available: False, using: 0 HPUs\n",
      "/Users/advait/c4a0/.venv/lib/python3.11/site-packages/pytorch_lightning/loggers/wandb.py:396: There is a wandb run already in progress and newly created instances of `WandbLogger` will reuse this run. If this is not desired, call `wandb.finish()` before instantiating `WandbLogger`.\n",
      "\n",
      "  | Name          | Type             | Params\n",
      "---------------------------------------------------\n",
      "0 | conv          | Sequential       | 38.4 K\n",
      "1 | fc_policy     | Sequential       | 18.8 K\n",
      "2 | fc_value      | Sequential       | 21.7 M\n",
      "3 | policy_kl_div | KLDivergence     | 0     \n",
      "4 | value_mse     | MeanSquaredError | 0     \n",
      "---------------------------------------------------\n",
      "21.8 M    Trainable params\n",
      "0         Non-trainable params\n",
      "21.8 M    Total params\n",
      "87.041    Total estimated model params size (MB)\n",
      "\u001b[34m\u001b[1mwandb\u001b[0m: \u001b[33mWARNING\u001b[0m Config item 'n_conv_layers' was locked by 'sweep' (ignored update).\n",
      "\u001b[34m\u001b[1mwandb\u001b[0m: \u001b[33mWARNING\u001b[0m Config item 'conv_filter_size' was locked by 'sweep' (ignored update).\n",
      "\u001b[34m\u001b[1mwandb\u001b[0m: \u001b[33mWARNING\u001b[0m Config item 'n_policy_layers' was locked by 'sweep' (ignored update).\n",
      "\u001b[34m\u001b[1mwandb\u001b[0m: \u001b[33mWARNING\u001b[0m Config item 'n_value_layers' was locked by 'sweep' (ignored update).\n",
      "\u001b[34m\u001b[1mwandb\u001b[0m: \u001b[33mWARNING\u001b[0m Config item 'learning_rate' was locked by 'sweep' (ignored update).\n"
     ]
    },
    {
     "name": "stdout",
     "output_type": "stream",
     "text": [
      "Sanity Checking DataLoader 0:   0%|          | 0/2 [00:00<?, ?it/s]"
     ]
    },
    {
     "name": "stderr",
     "output_type": "stream",
     "text": [
      "/Users/advait/c4a0/.venv/lib/python3.11/site-packages/pytorch_lightning/trainer/connectors/data_connector.py:441: The 'val_dataloader' does not have many workers which may be a bottleneck. Consider increasing the value of the `num_workers` argument` to `num_workers=9` in the `DataLoader` to improve performance.\n"
     ]
    },
    {
     "name": "stdout",
     "output_type": "stream",
     "text": [
      "                                                                           "
     ]
    },
    {
     "name": "stderr",
     "output_type": "stream",
     "text": [
      "/Users/advait/c4a0/.venv/lib/python3.11/site-packages/pytorch_lightning/trainer/connectors/data_connector.py:441: The 'train_dataloader' does not have many workers which may be a bottleneck. Consider increasing the value of the `num_workers` argument` to `num_workers=9` in the `DataLoader` to improve performance.\n"
     ]
    },
    {
     "name": "stdout",
     "output_type": "stream",
     "text": [
      "Epoch 2:  68%|██████▊   | 227/335 [00:20<00:09, 10.92it/s, v_num=z4hc, train_loss=0.232, val_loss=0.263]"
     ]
    }
   ],
   "source": [
    "sweep_id = wandb.sweep(sweep_config, project=\"c4a0\")\n",
    "wandb.agent(sweep_id, train, count=100)"
   ]
  }
 ],
 "metadata": {
  "kernelspec": {
   "display_name": ".venv",
   "language": "python",
   "name": "python3"
  },
  "language_info": {
   "codemirror_mode": {
    "name": "ipython",
    "version": 3
   },
   "file_extension": ".py",
   "mimetype": "text/x-python",
   "name": "python",
   "nbconvert_exporter": "python",
   "pygments_lexer": "ipython3",
   "version": "3.11.6"
  }
 },
 "nbformat": 4,
 "nbformat_minor": 2
}
