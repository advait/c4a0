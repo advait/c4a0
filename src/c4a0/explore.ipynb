{
 "cells": [
  {
   "cell_type": "code",
   "execution_count": 2,
   "metadata": {},
   "outputs": [],
   "source": [
    "%load_ext autoreload\n",
    "%autoreload 2"
   ]
  },
  {
   "cell_type": "code",
   "execution_count": 3,
   "metadata": {},
   "outputs": [],
   "source": [
    "from dataclasses import dataclass\n",
    "import os\n",
    "from pathlib import Path\n",
    "import sys\n",
    "from typing import List\n",
    "\n",
    "from loguru import logger\n",
    "import matplotlib.pyplot as plt\n",
    "\n",
    "# Add src/ to path\n",
    "root_dir = (Path() / \"..\" / \"..\").resolve()\n",
    "training_dir = str(root_dir / \"training\")\n",
    "cache_path = str(root_dir / \"solutions.db\")\n",
    "solver_path = \"/home/advait/connect4/c4solver\"\n",
    "book_path = \"/home/advait/connect4/7x6.book\"\n",
    "sys.path.append(str(root_dir / \"src\"))\n",
    "\n",
    "# Enable rust logging\n",
    "os.environ[\"RUST_LOG\"] = \"DEBUG\""
   ]
  },
  {
   "cell_type": "code",
   "execution_count": 4,
   "metadata": {},
   "outputs": [],
   "source": [
    "# Import must happen after modifying python path\n",
    "from c4a0.training import TrainingGen"
   ]
  },
  {
   "cell_type": "code",
   "execution_count": 5,
   "metadata": {},
   "outputs": [],
   "source": [
    "@dataclass\n",
    "class GenStats:\n",
    "    gen_numbers: List[int]\n",
    "    gens: List[TrainingGen]\n",
    "    set_sizes: List[int]\n",
    "    policy_scores: List[float]\n",
    "\n",
    "def gen_stats(training_dir: str) -> GenStats:\n",
    "    gens = TrainingGen.load_all(training_dir)\n",
    "    gen_numbers = list(reversed(range(len(gens))))\n",
    "    gens.pop(-1)  # Zeroth gen is untrained\n",
    "    gen_numbers.pop(-1)\n",
    "    logger.info(f\"Computing stats for: {training_dir}\")\n",
    "    set_sizes = [\n",
    "        gen.get_games(str(training_dir)).unique_positions() # type: ignore\n",
    "        for gen in gens\n",
    "    ]\n",
    "    policy_scores = [\n",
    "        gen.get_games(training_dir).score_policies(solver_path, book_path, cache_path)  # type: ignore\n",
    "        for gen in gens\n",
    "    ]\n",
    "    logger.info(\"Done\")\n",
    "    return GenStats(gen_numbers, gens, set_sizes, policy_scores)\n"
   ]
  },
  {
   "cell_type": "code",
   "execution_count": 6,
   "metadata": {},
   "outputs": [],
   "source": [
    "def plot_single_run(s: GenStats):\n",
    "    fig, ax1 = plt.subplots(figsize=(12, 8))\n",
    "\n",
    "    # Bar plot for set_sizes\n",
    "    ax1.bar(s.gen_numbers, s.set_sizes, color='lavender', edgecolor='black')\n",
    "    ax1.set_ylabel('Unique training positions in generation', fontsize=14)\n",
    "    ax1.tick_params(axis='y')\n",
    "    ax1.set_xlabel('Generation Number', fontsize=14)\n",
    "    ax1.set_xticks(s.gen_numbers)\n",
    "    ax1.set_xticklabels(s.gen_numbers, ha='right', fontsize=12)\n",
    "\n",
    "    # Create a second y-axis for policy_scores\n",
    "    ax2 = ax1.twinx()\n",
    "    ax2.plot(s.gen_numbers, s.policy_scores, color='forestgreen', marker='o', linestyle='-', linewidth=2, markersize=6)\n",
    "    ax2.set_ylabel('% Perfect Moves')\n",
    "\n",
    "    # Add data labels on line plot\n",
    "    for i, txt in enumerate(s.policy_scores):\n",
    "        ax2.annotate(f'{txt:.2f}', (s.gen_numbers[i], s.policy_scores[i]), textcoords=\"offset points\", xytext=(0,10), ha='center', fontsize=10)\n",
    "\n",
    "    plt.title('Generation Performance', fontsize=20)\n",
    "    fig.tight_layout()\n",
    "    plt.show()\n",
    "    return plt\n",
    "\n",
    "def plot_multiple_runs(stats_list: List[GenStats]):\n",
    "    fig, ax = plt.subplots(figsize=(12, 8))\n",
    "\n",
    "    for s in stats_list:\n",
    "        ax.plot(s.gen_numbers, s.policy_scores, marker='o', linestyle='-', linewidth=2, markersize=6, label=f'Run {stats_list.index(s) + 1}')\n",
    "\n",
    "    ax.set_ylabel('% Perfect Moves', fontsize=14)\n",
    "    ax.set_xlabel('Generation Number', fontsize=14)\n",
    "    ax.set_xticks(stats_list[0].gen_numbers)\n",
    "    ax.set_xticklabels(stats_list[0].gen_numbers, ha='right', fontsize=12)\n",
    "    ax.legend(title='Runs', fontsize=12)\n",
    "\n",
    "    plt.title('Generation Performance Across Multiple Runs', fontsize=20)\n",
    "    fig.tight_layout()\n",
    "    plt.show()\n",
    "    return plt\n",
    "\n",
    "def plot_single_dir(training_dir: str):\n",
    "    s = gen_stats(training_dir)\n",
    "    return plot_single_run(s)\n",
    "\n",
    "def plot_multiple_dirs(dirs: List[str]):\n",
    "    stats_list = [gen_stats(d) for d in dirs]\n",
    "    return plot_multiple_runs(stats_list)"
   ]
  },
  {
   "cell_type": "code",
   "execution_count": null,
   "metadata": {},
   "outputs": [],
   "source": [
    "plot_single_dir(str(root_dir / \"training\"))"
   ]
  },
  {
   "cell_type": "code",
   "execution_count": null,
   "metadata": {},
   "outputs": [],
   "source": [
    "plot_multiple_dirs([str(root_dir / \"training-sweeps\" / f\"trial_{i}\") for i in range(20)])"
   ]
  }
 ],
 "metadata": {
  "kernelspec": {
   "display_name": ".venv",
   "language": "python",
   "name": "python3"
  },
  "language_info": {
   "codemirror_mode": {
    "name": "ipython",
    "version": 3
   },
   "file_extension": ".py",
   "mimetype": "text/x-python",
   "name": "python",
   "nbconvert_exporter": "python",
   "pygments_lexer": "ipython3",
   "version": "3.11.6"
  }
 },
 "nbformat": 4,
 "nbformat_minor": 2
}
